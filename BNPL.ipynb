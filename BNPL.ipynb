{
 "cells": [
  {
   "cell_type": "code",
   "execution_count": 1,
   "id": "9eb818d4-6b43-4023-8c31-54c21b02533a",
   "metadata": {},
   "outputs": [],
   "source": [
    "import pandas as pd"
   ]
  },
  {
   "cell_type": "code",
   "execution_count": 2,
   "id": "eded0fb4-7806-4acf-9f2e-11f24c1a3f41",
   "metadata": {},
   "outputs": [],
   "source": [
    "bnpl = pd.read_csv(\"BNPL responses.csv\")"
   ]
  },
  {
   "cell_type": "code",
   "execution_count": 3,
   "id": "dc7d4ce2-118b-44c7-98c8-bedfd2b91d40",
   "metadata": {},
   "outputs": [
    {
     "data": {
      "text/html": [
       "<div>\n",
       "<style scoped>\n",
       "    .dataframe tbody tr th:only-of-type {\n",
       "        vertical-align: middle;\n",
       "    }\n",
       "\n",
       "    .dataframe tbody tr th {\n",
       "        vertical-align: top;\n",
       "    }\n",
       "\n",
       "    .dataframe thead th {\n",
       "        text-align: right;\n",
       "    }\n",
       "</style>\n",
       "<table border=\"1\" class=\"dataframe\">\n",
       "  <thead>\n",
       "    <tr style=\"text-align: right;\">\n",
       "      <th></th>\n",
       "      <th>Timestamp</th>\n",
       "      <th>Score</th>\n",
       "      <th>What is your age group?</th>\n",
       "      <th>How often do you use Buy Now, Pay Later (BNPL) services like Klarna, Afterpay, or Affirm?</th>\n",
       "      <th>Have you ever struggled to make a BNPL payment on time?</th>\n",
       "      <th>Do you think BNPL is more helpful or harmful to financial well-being?</th>\n",
       "    </tr>\n",
       "  </thead>\n",
       "  <tbody>\n",
       "    <tr>\n",
       "      <th>0</th>\n",
       "      <td>3/21/2025 17:26:36</td>\n",
       "      <td>NaN</td>\n",
       "      <td>18 - 24</td>\n",
       "      <td>Frequently (multiple times a month)</td>\n",
       "      <td>No, I always pay on time</td>\n",
       "      <td>No impact – I would have made the purchase anyway</td>\n",
       "    </tr>\n",
       "    <tr>\n",
       "      <th>1</th>\n",
       "      <td>3/21/2025 17:28:43</td>\n",
       "      <td>NaN</td>\n",
       "      <td>25 - 34</td>\n",
       "      <td>Never</td>\n",
       "      <td>No, I’ve never used BNPL</td>\n",
       "      <td>Helpful – it allows me to manage expenses better</td>\n",
       "    </tr>\n",
       "    <tr>\n",
       "      <th>2</th>\n",
       "      <td>3/21/2025 17:29:00</td>\n",
       "      <td>NaN</td>\n",
       "      <td>18 - 24</td>\n",
       "      <td>Never</td>\n",
       "      <td>No, I’ve never used BNPL</td>\n",
       "      <td>No impact – I would have made the purchase anyway</td>\n",
       "    </tr>\n",
       "    <tr>\n",
       "      <th>3</th>\n",
       "      <td>3/21/2025 17:31:00</td>\n",
       "      <td>NaN</td>\n",
       "      <td>18 - 24</td>\n",
       "      <td>Frequently (multiple times a month)</td>\n",
       "      <td>Yes, but I managed to pay before the deadline</td>\n",
       "      <td>Harmful – it encourages overspending and debt</td>\n",
       "    </tr>\n",
       "    <tr>\n",
       "      <th>4</th>\n",
       "      <td>3/21/2025 17:32:19</td>\n",
       "      <td>NaN</td>\n",
       "      <td>18 - 24</td>\n",
       "      <td>Never</td>\n",
       "      <td>No, I’ve never used BNPL</td>\n",
       "      <td>No impact – I would have made the purchase anyway</td>\n",
       "    </tr>\n",
       "  </tbody>\n",
       "</table>\n",
       "</div>"
      ],
      "text/plain": [
       "            Timestamp  Score What is your age group?  \\\n",
       "0  3/21/2025 17:26:36    NaN                 18 - 24   \n",
       "1  3/21/2025 17:28:43    NaN                 25 - 34   \n",
       "2  3/21/2025 17:29:00    NaN                 18 - 24   \n",
       "3  3/21/2025 17:31:00    NaN                 18 - 24   \n",
       "4  3/21/2025 17:32:19    NaN                 18 - 24   \n",
       "\n",
       "  How often do you use Buy Now, Pay Later (BNPL) services like Klarna, Afterpay, or Affirm?    \\\n",
       "0                Frequently (multiple times a month)                                            \n",
       "1                                              Never                                            \n",
       "2                                              Never                                            \n",
       "3                Frequently (multiple times a month)                                            \n",
       "4                                              Never                                            \n",
       "\n",
       "  Have you ever struggled to make a BNPL payment on time?    \\\n",
       "0                           No, I always pay on time          \n",
       "1                           No, I’ve never used BNPL          \n",
       "2                           No, I’ve never used BNPL          \n",
       "3      Yes, but I managed to pay before the deadline          \n",
       "4                           No, I’ve never used BNPL          \n",
       "\n",
       "  Do you think BNPL is more helpful or harmful to financial well-being?    \n",
       "0  No impact – I would have made the purchase anyway                       \n",
       "1   Helpful – it allows me to manage expenses better                       \n",
       "2  No impact – I would have made the purchase anyway                       \n",
       "3      Harmful – it encourages overspending and debt                       \n",
       "4  No impact – I would have made the purchase anyway                       "
      ]
     },
     "execution_count": 3,
     "metadata": {},
     "output_type": "execute_result"
    }
   ],
   "source": [
    "bnpl.head()"
   ]
  },
  {
   "cell_type": "code",
   "execution_count": 4,
   "id": "a8bde6f2-03da-4e10-be67-90ad96f71243",
   "metadata": {},
   "outputs": [],
   "source": [
    "bnpl = bnpl.drop(columns = [\"Timestamp\", \"Score\"], axis = 0)"
   ]
  },
  {
   "cell_type": "code",
   "execution_count": 5,
   "id": "1afd506f-3c8b-4d7a-9997-838fb2251c5e",
   "metadata": {},
   "outputs": [],
   "source": [
    "bnpl.rename(columns={'What is your age group?': 'age_group'}, inplace=True)"
   ]
  },
  {
   "cell_type": "code",
   "execution_count": 6,
   "id": "ae5a97df-dd21-4aa5-8e41-c2bc04eec067",
   "metadata": {},
   "outputs": [],
   "source": [
    "bnpl.rename(columns={'How often do you use Buy Now, Pay Later (BNPL) services like Klarna, Afterpay, or Affirm?  ': 'usage_frequency'}, inplace=True)"
   ]
  },
  {
   "cell_type": "code",
   "execution_count": 7,
   "id": "5fe8e6a4-4d40-42e0-9c3f-79bd9c1e3d64",
   "metadata": {},
   "outputs": [],
   "source": [
    "bnpl.rename(columns={'Have you ever struggled to make a BNPL payment on time?  ' : 'paid_back'}, inplace=True)"
   ]
  },
  {
   "cell_type": "code",
   "execution_count": 8,
   "id": "3fc7ab5c-f417-4482-8c2e-b04ebfadac2c",
   "metadata": {},
   "outputs": [],
   "source": [
    "bnpl.rename(columns={'Do you think BNPL is more helpful or harmful to financial well-being?  ' : 'opinion_on_bnpl'}, inplace=True)"
   ]
  },
  {
   "cell_type": "code",
   "execution_count": 9,
   "id": "eafe81fb-1bdc-4277-8af0-0e028217eb95",
   "metadata": {},
   "outputs": [
    {
     "data": {
      "text/html": [
       "<div>\n",
       "<style scoped>\n",
       "    .dataframe tbody tr th:only-of-type {\n",
       "        vertical-align: middle;\n",
       "    }\n",
       "\n",
       "    .dataframe tbody tr th {\n",
       "        vertical-align: top;\n",
       "    }\n",
       "\n",
       "    .dataframe thead th {\n",
       "        text-align: right;\n",
       "    }\n",
       "</style>\n",
       "<table border=\"1\" class=\"dataframe\">\n",
       "  <thead>\n",
       "    <tr style=\"text-align: right;\">\n",
       "      <th></th>\n",
       "      <th>age_group</th>\n",
       "      <th>usage_frequency</th>\n",
       "      <th>paid_back</th>\n",
       "      <th>opinion_on_bnpl</th>\n",
       "    </tr>\n",
       "  </thead>\n",
       "  <tbody>\n",
       "    <tr>\n",
       "      <th>0</th>\n",
       "      <td>18 - 24</td>\n",
       "      <td>Frequently (multiple times a month)</td>\n",
       "      <td>No, I always pay on time</td>\n",
       "      <td>No impact – I would have made the purchase anyway</td>\n",
       "    </tr>\n",
       "    <tr>\n",
       "      <th>1</th>\n",
       "      <td>25 - 34</td>\n",
       "      <td>Never</td>\n",
       "      <td>No, I’ve never used BNPL</td>\n",
       "      <td>Helpful – it allows me to manage expenses better</td>\n",
       "    </tr>\n",
       "    <tr>\n",
       "      <th>2</th>\n",
       "      <td>18 - 24</td>\n",
       "      <td>Never</td>\n",
       "      <td>No, I’ve never used BNPL</td>\n",
       "      <td>No impact – I would have made the purchase anyway</td>\n",
       "    </tr>\n",
       "    <tr>\n",
       "      <th>3</th>\n",
       "      <td>18 - 24</td>\n",
       "      <td>Frequently (multiple times a month)</td>\n",
       "      <td>Yes, but I managed to pay before the deadline</td>\n",
       "      <td>Harmful – it encourages overspending and debt</td>\n",
       "    </tr>\n",
       "    <tr>\n",
       "      <th>4</th>\n",
       "      <td>18 - 24</td>\n",
       "      <td>Never</td>\n",
       "      <td>No, I’ve never used BNPL</td>\n",
       "      <td>No impact – I would have made the purchase anyway</td>\n",
       "    </tr>\n",
       "  </tbody>\n",
       "</table>\n",
       "</div>"
      ],
      "text/plain": [
       "  age_group                      usage_frequency  \\\n",
       "0   18 - 24  Frequently (multiple times a month)   \n",
       "1   25 - 34                                Never   \n",
       "2   18 - 24                                Never   \n",
       "3   18 - 24  Frequently (multiple times a month)   \n",
       "4   18 - 24                                Never   \n",
       "\n",
       "                                       paid_back  \\\n",
       "0                       No, I always pay on time   \n",
       "1                       No, I’ve never used BNPL   \n",
       "2                       No, I’ve never used BNPL   \n",
       "3  Yes, but I managed to pay before the deadline   \n",
       "4                       No, I’ve never used BNPL   \n",
       "\n",
       "                                     opinion_on_bnpl  \n",
       "0  No impact – I would have made the purchase anyway  \n",
       "1   Helpful – it allows me to manage expenses better  \n",
       "2  No impact – I would have made the purchase anyway  \n",
       "3      Harmful – it encourages overspending and debt  \n",
       "4  No impact – I would have made the purchase anyway  "
      ]
     },
     "execution_count": 9,
     "metadata": {},
     "output_type": "execute_result"
    }
   ],
   "source": [
    "bnpl.head()"
   ]
  },
  {
   "cell_type": "code",
   "execution_count": 10,
   "id": "6fad271b-22b3-40b7-a1b1-bf43cc25830d",
   "metadata": {},
   "outputs": [
    {
     "data": {
      "text/plain": [
       "opinion_on_bnpl\n",
       "Harmful – it encourages overspending and debt        23\n",
       "No impact – I would have made the purchase anyway    16\n",
       "Helpful – it allows me to manage expenses better     15\n",
       "Name: count, dtype: int64"
      ]
     },
     "execution_count": 10,
     "metadata": {},
     "output_type": "execute_result"
    }
   ],
   "source": [
    "bnpl['opinion_on_bnpl'].value_counts()"
   ]
  },
  {
   "cell_type": "code",
   "execution_count": 11,
   "id": "ea4ec62e-97f3-4b27-b13f-9370d9697268",
   "metadata": {},
   "outputs": [],
   "source": [
    "bnpl['opinion_on_bnpl'] = bnpl['opinion_on_bnpl'].replace({\n",
    "    'Harmful – it encourages overspending and debt': 'Harmful',\n",
    "    'No impact – I would have made the purchase anyway': 'No impact',\n",
    "    'Helpful – it allows me to manage expenses better': 'Helpful'\n",
    "})"
   ]
  },
  {
   "cell_type": "code",
   "execution_count": 12,
   "id": "a9f1b849-2043-4a7f-8a6f-902309924267",
   "metadata": {},
   "outputs": [
    {
     "data": {
      "text/plain": [
       "paid_back\n",
       "No, I’ve never used BNPL                          26\n",
       "No, I always pay on time                          15\n",
       "Yes, I missed a payment and incurred late fees     8\n",
       "Yes, but I managed to pay before the deadline      5\n",
       "Name: count, dtype: int64"
      ]
     },
     "execution_count": 12,
     "metadata": {},
     "output_type": "execute_result"
    }
   ],
   "source": [
    "bnpl['paid_back'].value_counts()"
   ]
  },
  {
   "cell_type": "code",
   "execution_count": 13,
   "id": "e9f1bd86-99d1-4506-84a9-bf1c24723084",
   "metadata": {},
   "outputs": [],
   "source": [
    "bnpl['paid_back'] = bnpl['paid_back'].replace({\n",
    "    'No, I’ve never used BNPL': 'Never used',\n",
    "    'No, I always pay on time': 'Always on time',\n",
    "    'Yes, I missed a payment and incurred late fees': 'Missed & late fees',\n",
    "    'Yes, but I managed to pay before the deadline': 'Paid before deadline'\n",
    "})"
   ]
  },
  {
   "cell_type": "code",
   "execution_count": 14,
   "id": "1c98a08b-9ae6-43a5-a7c1-6a1bea3096a7",
   "metadata": {},
   "outputs": [
    {
     "data": {
      "text/plain": [
       "usage_frequency\n",
       "Never                                   29\n",
       "Rarely (once or twice a year)           15\n",
       "Frequently (multiple times a month)      7\n",
       "Occasionally (once every few months)     3\n",
       "Name: count, dtype: int64"
      ]
     },
     "execution_count": 14,
     "metadata": {},
     "output_type": "execute_result"
    }
   ],
   "source": [
    "bnpl['usage_frequency'].value_counts()"
   ]
  },
  {
   "cell_type": "code",
   "execution_count": 15,
   "id": "3a6bbc3d-cead-451a-9889-934cb3f1d12c",
   "metadata": {},
   "outputs": [],
   "source": [
    "bnpl['usage_frequency'] = bnpl['usage_frequency'].str.replace(r\"\\s*\\(.*?\\)\", \"\", regex=True).str.strip()"
   ]
  },
  {
   "cell_type": "code",
   "execution_count": 16,
   "id": "e29b5181-082a-4536-b5bb-b365d5859d0c",
   "metadata": {},
   "outputs": [
    {
     "data": {
      "text/html": [
       "<div>\n",
       "<style scoped>\n",
       "    .dataframe tbody tr th:only-of-type {\n",
       "        vertical-align: middle;\n",
       "    }\n",
       "\n",
       "    .dataframe tbody tr th {\n",
       "        vertical-align: top;\n",
       "    }\n",
       "\n",
       "    .dataframe thead th {\n",
       "        text-align: right;\n",
       "    }\n",
       "</style>\n",
       "<table border=\"1\" class=\"dataframe\">\n",
       "  <thead>\n",
       "    <tr style=\"text-align: right;\">\n",
       "      <th></th>\n",
       "      <th>age_group</th>\n",
       "      <th>usage_frequency</th>\n",
       "      <th>paid_back</th>\n",
       "      <th>opinion_on_bnpl</th>\n",
       "    </tr>\n",
       "  </thead>\n",
       "  <tbody>\n",
       "    <tr>\n",
       "      <th>0</th>\n",
       "      <td>18 - 24</td>\n",
       "      <td>Frequently</td>\n",
       "      <td>Always on time</td>\n",
       "      <td>No impact</td>\n",
       "    </tr>\n",
       "    <tr>\n",
       "      <th>1</th>\n",
       "      <td>25 - 34</td>\n",
       "      <td>Never</td>\n",
       "      <td>Never used</td>\n",
       "      <td>Helpful</td>\n",
       "    </tr>\n",
       "    <tr>\n",
       "      <th>2</th>\n",
       "      <td>18 - 24</td>\n",
       "      <td>Never</td>\n",
       "      <td>Never used</td>\n",
       "      <td>No impact</td>\n",
       "    </tr>\n",
       "    <tr>\n",
       "      <th>3</th>\n",
       "      <td>18 - 24</td>\n",
       "      <td>Frequently</td>\n",
       "      <td>Paid before deadline</td>\n",
       "      <td>Harmful</td>\n",
       "    </tr>\n",
       "    <tr>\n",
       "      <th>4</th>\n",
       "      <td>18 - 24</td>\n",
       "      <td>Never</td>\n",
       "      <td>Never used</td>\n",
       "      <td>No impact</td>\n",
       "    </tr>\n",
       "  </tbody>\n",
       "</table>\n",
       "</div>"
      ],
      "text/plain": [
       "  age_group usage_frequency             paid_back opinion_on_bnpl\n",
       "0   18 - 24      Frequently        Always on time       No impact\n",
       "1   25 - 34           Never            Never used         Helpful\n",
       "2   18 - 24           Never            Never used       No impact\n",
       "3   18 - 24      Frequently  Paid before deadline         Harmful\n",
       "4   18 - 24           Never            Never used       No impact"
      ]
     },
     "execution_count": 16,
     "metadata": {},
     "output_type": "execute_result"
    }
   ],
   "source": [
    "bnpl.head()"
   ]
  },
  {
   "cell_type": "code",
   "execution_count": 17,
   "id": "c98be144-2393-41bc-9173-8f14f55f920a",
   "metadata": {},
   "outputs": [],
   "source": [
    "bnpl.to_csv(\"C:/Users/vadre/OneDrive/Desktop/bnpl_cleaned.csv\", index=False)\n"
   ]
  },
  {
   "cell_type": "code",
   "execution_count": 19,
   "id": "10056d6a-6410-4383-b254-d08bbeaacfc2",
   "metadata": {},
   "outputs": [
    {
     "data": {
      "text/plain": [
       "(54, 4)"
      ]
     },
     "execution_count": 19,
     "metadata": {},
     "output_type": "execute_result"
    }
   ],
   "source": [
    "bnpl.shape"
   ]
  },
  {
   "cell_type": "code",
   "execution_count": null,
   "id": "04b3e568-e55c-44fc-9425-d9b11e44ac12",
   "metadata": {},
   "outputs": [],
   "source": []
  }
 ],
 "metadata": {
  "kernelspec": {
   "display_name": "Python [conda env:base] *",
   "language": "python",
   "name": "conda-base-py"
  },
  "language_info": {
   "codemirror_mode": {
    "name": "ipython",
    "version": 3
   },
   "file_extension": ".py",
   "mimetype": "text/x-python",
   "name": "python",
   "nbconvert_exporter": "python",
   "pygments_lexer": "ipython3",
   "version": "3.12.7"
  }
 },
 "nbformat": 4,
 "nbformat_minor": 5
}
